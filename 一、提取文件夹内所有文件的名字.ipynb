{
 "cells": [
  {
   "cell_type": "markdown",
   "metadata": {},
   "source": [
    "# 提取文件夹内所有文件的名字"
   ]
  },
  {
   "cell_type": "code",
   "execution_count": 1,
   "metadata": {
    "scrolled": true
   },
   "outputs": [],
   "source": [
    "import os\n",
    "import pandas as pd\n",
    "path = \"../大作业数据\"\n",
    "files = os.listdir(path)\n"
   ]
  },
  {
   "cell_type": "markdown",
   "metadata": {},
   "source": [
    "## 分别处理csv和json文件，将所有数据存入stock中"
   ]
  },
  {
   "cell_type": "code",
   "execution_count": 2,
   "metadata": {},
   "outputs": [],
   "source": [
    "header=[\"股票代码\",\"股票名称\",\"交易日期\",\"开盘价\",\"最高价\",\"最低价\",\"收盘价\",\"前收盘价\",\"成交量\",\"成交额\"]\n",
    "name=['交易日期', '前收盘价', '开盘价', '成交量', '成交额', '收盘价', '最低价', '最高价', '股票代码','股票名称']\n",
    "tempN=[\"成交量\",\"最低价\",\"收盘价\",\"前收盘价\",\"交易日期\",\"开盘价\",\"最高价\",\"成交额\",\"股票代码\",\"股票名称\"]\n",
    "\n",
    "stock = pd.DataFrame(columns=header)  #创建一个空的DataFrame\n",
    "\n",
    "def disposeCsv(path):\n",
    "    temp = pd.read_csv(\n",
    "    path,\n",
    "    skiprows=1,\n",
    "    encoding='gbk',\n",
    "    names = header)\n",
    "    if (temp.iloc[0].tolist() == header):\n",
    "        temp.drop([0],inplace=True)\n",
    "        temp =temp.reset_index(drop=True)\n",
    "    global stock\n",
    "    stock = pd.concat([stock,temp],axis=0)\n",
    "\n",
    "def disposeJson(path):\n",
    "    temp = pd.read_json(path, encoding='gbk')\n",
    "    if(temp.columns.tolist()== name):\n",
    "        temp=temp[header]\n",
    "    else:\n",
    "        temp.columns=tempN\n",
    "        temp=temp[header]\n",
    "    global stock\n",
    "    stock =  pd.concat([stock,temp],axis=0)\n",
    "\n",
    "for file in files:\n",
    "    if file.split(\".\")[1] == \"csv\":\n",
    "        path = '../大作业数据/'+file\n",
    "        disposeCsv(path)\n",
    "    if file.split(\".\")[1] == \"json\":\n",
    "        path = '../大作业数据/'+file\n",
    "        disposeJson(path)"
   ]
  },
  {
   "cell_type": "markdown",
   "metadata": {},
   "source": [
    "## 将stock存入excel中"
   ]
  },
  {
   "cell_type": "code",
   "execution_count": 3,
   "metadata": {},
   "outputs": [],
   "source": [
    "stock.to_excel('../afterClean/stock.xlsx',index=False,header=True,encoding='utf-8')"
   ]
  },
  {
   "cell_type": "code",
   "execution_count": 4,
   "metadata": {
    "scrolled": false
   },
   "outputs": [
    {
     "data": {
      "text/plain": [
       "(171576, 10)"
      ]
     },
     "execution_count": 4,
     "metadata": {},
     "output_type": "execute_result"
    }
   ],
   "source": [
    "stock.shape"
   ]
  }
 ],
 "metadata": {
  "kernelspec": {
   "display_name": "Python 3",
   "language": "python",
   "name": "python3"
  },
  "language_info": {
   "codemirror_mode": {
    "name": "ipython",
    "version": 3
   },
   "file_extension": ".py",
   "mimetype": "text/x-python",
   "name": "python",
   "nbconvert_exporter": "python",
   "pygments_lexer": "ipython3",
   "version": "3.8.3"
  }
 },
 "nbformat": 4,
 "nbformat_minor": 4
}
